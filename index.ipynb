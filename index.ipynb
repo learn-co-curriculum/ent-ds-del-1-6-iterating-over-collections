{
 "cells": [
  {
   "cell_type": "markdown",
   "metadata": {},
   "source": [
    "# Iterating Over Collections\n",
    "\n",
    "\n",
    "## Introduction\n",
    "In the last lesson we introduced some of the common collection types within Python. Remember? \n",
    "\n",
    "***What are the characteristics of Lists, Tuples, Sets and Dictionaries?***\n",
    "\n",
    "**When would you choose to use each one?**\n",
    "\n",
    "In this lesson, we're going to focus on iterating over collections so we can start to perform data clean up on collections of data. We'll also introduce nested collections where (for example), you have a List of Dictionaries for storing and operating on a collection of complex data.\n",
    "\n",
    "## Objectives\n",
    "You will be able to:\n",
    "* Iterate over common Python collection types\n",
    "* Use list comprehensions to clean up lists\n",
    "* Create and iterate over collections of collections"
   ]
  },
  {
   "cell_type": "markdown",
   "metadata": {},
   "source": [
    "## Iterating Over a Sequence\n",
    "\n",
    "In Python, a Sequence is an ordered set. As such, both Lists *(mutable - you can change them)* and Tuples *(immutable, you can't change them)* are sets. \n",
    "\n",
    "Let's look at how to iterate over a sequence:"
   ]
  },
  {
   "cell_type": "code",
   "execution_count": null,
   "metadata": {},
   "outputs": [],
   "source": [
    "state_list = [\"Alabama\", \"California\", \"Montana\"]\n",
    "for state in state_list:\n",
    "    print(state)\n"
   ]
  },
  {
   "cell_type": "markdown",
   "metadata": {},
   "source": [
    "## Iterating Over a Set\n",
    "\n",
    "A Set isn't an **ordered** sequence *(remember? in a set duplicates are not allowed and you can't control the order of the elements)*, but the code to iterate over it is the same as for a List or a Tuple:"
   ]
  },
  {
   "cell_type": "code",
   "execution_count": null,
   "metadata": {},
   "outputs": [],
   "source": [
    "unique_cities = {\"Chicago\", \"Madison\", \"Minneapolis\"}\n",
    "for city in unique_cities:\n",
    "    print(city)"
   ]
  },
  {
   "cell_type": "markdown",
   "metadata": {},
   "source": [
    "## Transforming a List\n",
    "\n",
    "Let's iterate over a list and clean up the results, storing them in a new list. Lets take the capitalization example we used before just to make this easy . . ."
   ]
  },
  {
   "cell_type": "code",
   "execution_count": null,
   "metadata": {},
   "outputs": [],
   "source": [
    "original_company_list = [\"aMAzOn\", \"FAcebooK\", \"GooGLe\"]\n",
    "new_company_list = []\n",
    "for company in original_company_list:\n",
    "    new_company_list.append(company.capitalize())\n",
    "print(new_company_list)                  "
   ]
  },
  {
   "cell_type": "markdown",
   "metadata": {},
   "source": [
    "## List Comprehensions\n",
    "\n",
    "The code above works, but there is a more idiomatic way to write that code in Python, using something called \"list comprehensions\". It allows you to easily iterate over a list and create a new list based on the transformation you describe. "
   ]
  },
  {
   "cell_type": "code",
   "execution_count": null,
   "metadata": {},
   "outputs": [],
   "source": [
    "original_company_list = [\"aMAzOn\", \"FAcebooK\", \"GooGLe\"]\n",
    "new_company_list = [company.capitalize() for company in original_company_list]\n",
    "print(new_company_list)"
   ]
  },
  {
   "cell_type": "markdown",
   "metadata": {},
   "source": [
    "You can even apply a filter to a list comprehension, so, for example, if you only want companies where the first letter of theirt name starts with an \"a\", you could write:"
   ]
  },
  {
   "cell_type": "code",
   "execution_count": null,
   "metadata": {},
   "outputs": [],
   "source": [
    "original_company_list = [\"aMAzOn\", \"FAcebooK\", \"GooGLe\"]\n",
    "new_company_list = [company.capitalize() for company in original_company_list if company[:1] == \"a\"]\n",
    "print(new_company_list)"
   ]
  },
  {
   "cell_type": "markdown",
   "metadata": {},
   "source": [
    "You don't necessarily need to write your code using list comprehensions, but it's important to be familiar with the format so you don't get confused when they come up when you Google for answers!"
   ]
  },
  {
   "cell_type": "markdown",
   "metadata": {},
   "source": [
    "## Turning a List into a Set\n",
    "\n",
    "Lets say you have a list of companies and each one is incorporated in a different state. It might be nice to create a de-duplicated list of states so you just have a list of all of the states that one or more of the companies is incorporated in.\n",
    "```\n",
    "company_incorporation_states = [\"Alabama\", \"California\", \"New York\", \"California\", \"Delaware\", \"New York\", \"Delaware\", \"Delaware\"] \n",
    "```\n",
    "\n",
    "There are lots of ways to do this, but one of the simplest is:"
   ]
  },
  {
   "cell_type": "code",
   "execution_count": null,
   "metadata": {},
   "outputs": [],
   "source": [
    "company_incorporation_states = [\"Alabama\", \"California\", \"New York\", \"California\", \"Delaware\", \"New York\", \"Delaware\", \"Delaware\"]\n",
    "unique_states = set(company_incorporation_states)\n",
    "print(unique_states)"
   ]
  },
  {
   "cell_type": "markdown",
   "metadata": {},
   "source": [
    "## Iterating over a List of Dictionaries\n",
    "\n",
    "While you will occasionally have a List you want to clean up, it's way more common for you to have a List of Dictionaries. For example, the problem above probably looks a little more like this most of the time:"
   ]
  },
  {
   "cell_type": "code",
   "execution_count": null,
   "metadata": {},
   "outputs": [],
   "source": [
    "company_1 = {\n",
    "    \"company_name\": \"Acme\",\n",
    "    \"state_incorporated\": \"Alabama\"    \n",
    "}\n",
    "company_2 = {\n",
    "    \"company_name\": \"Deville\",\n",
    "    \"state_incorporated\": \"California\"    \n",
    "}\n",
    "company_3 = {\n",
    "    \"company_name\": \"Goldwater\",\n",
    "    \"state_incorporated\": \"New York\"    \n",
    "}\n",
    "company_list = [company_1, company_2, company_3]\n",
    "\n",
    "print(company_list)"
   ]
  },
  {
   "cell_type": "markdown",
   "metadata": {},
   "source": [
    "And the code for working with this is pretty straightforward. Let's say we want to get a list of company names:"
   ]
  },
  {
   "cell_type": "code",
   "execution_count": null,
   "metadata": {},
   "outputs": [],
   "source": [
    "company_name_list = []\n",
    "for company in company_list:\n",
    "    company_name_list.append(company[\"company_name\"])\n",
    "print(company_name_list)     "
   ]
  },
  {
   "cell_type": "markdown",
   "metadata": {},
   "source": [
    "Or using a list comprehension:"
   ]
  },
  {
   "cell_type": "code",
   "execution_count": null,
   "metadata": {},
   "outputs": [],
   "source": [
    "company_name_list = [company[\"company_name\"] for company in company_list]\n",
    "print(company_name_list)"
   ]
  },
  {
   "cell_type": "markdown",
   "metadata": {},
   "source": [
    "## Summary\n",
    "\n",
    "There are lots of ways of iterating over and operating on collections in Python, but now you should have enough of the building blocks required to start to perform data clean up operations on collections of data.\n"
   ]
  }
 ],
 "metadata": {
  "kernelspec": {
   "display_name": "Python 3",
   "language": "python",
   "name": "python3"
  },
  "language_info": {
   "codemirror_mode": {
    "name": "ipython",
    "version": 3
   },
   "file_extension": ".py",
   "mimetype": "text/x-python",
   "name": "python",
   "nbconvert_exporter": "python",
   "pygments_lexer": "ipython3",
   "version": "3.6.6"
  }
 },
 "nbformat": 4,
 "nbformat_minor": 2
}
