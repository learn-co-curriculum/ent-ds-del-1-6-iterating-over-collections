{
 "cells": [
  {
   "cell_type": "markdown",
   "metadata": {},
   "source": [
    "# Iterating Over Collections\n",
    "\n",
    "\n",
    "## Introduction\n",
    "In the last lesson we introduced some of the common collection types within Python. Remember? \n",
    "\n",
    "**What are the characteristics of Lists, Tuples, Sets and Dictionaries? When would you choose to use each one?**\n",
    "\n",
    "In this lesson, we're going to focus on iterating over collections so we can start to perform data clean up on collections of data. We'll also introduce nested collections where (for example), you have a List of Dictionaries for storing and operating on a collection of complex data.\n",
    "\n",
    "## Objectives\n",
    "You will be able to:\n",
    "* Iterate over common Python collection types\n",
    "* Use list comprehensions to clean up lists\n",
    "* Create and iterate over collections of collections"
   ]
  },
  {
   "cell_type": "markdown",
   "metadata": {},
   "source": [
    "## Iterating Over a Sequence\n",
    "\n",
    "In Python, a Sequence is an ordered set. As such, both Lists *(mutable - you can change them)* and Tuples *(immutable, you can't change them)* are sets. \n",
    "\n",
    "Let's look at how to iterate over a sequence:"
   ]
  },
  {
   "cell_type": "code",
   "execution_count": 1,
   "metadata": {},
   "outputs": [
    {
     "name": "stdout",
     "output_type": "stream",
     "text": [
      "Alabama\n",
      "California\n",
      "Montana\n"
     ]
    }
   ],
   "source": [
    "state_list = [\"Alabama\", \"California\", \"Montana\"]\n",
    "for state in state_list:\n",
    "    print(state)\n"
   ]
  },
  {
   "cell_type": "markdown",
   "metadata": {},
   "source": [
    "## Iterating Over a Set\n",
    "\n",
    "A Set isn't an **ordered** sequence *(remember? in a set duplicates are not allowed and you can't control the order of the elements)*, but the code to iterate over it is the same as for a List or a Tuple:"
   ]
  },
  {
   "cell_type": "code",
   "execution_count": 6,
   "metadata": {},
   "outputs": [
    {
     "name": "stdout",
     "output_type": "stream",
     "text": [
      "Minneapolis\n",
      "Chicago\n",
      "Madison\n"
     ]
    }
   ],
   "source": [
    "unique_cities = {\"Chicago\", \"Madison\", \"Minneapolis\"}\n",
    "for city in unique_cities:\n",
    "    print(city)"
   ]
  },
  {
   "cell_type": "markdown",
   "metadata": {},
   "source": [
    "## Transforming a List\n",
    "\n",
    "Let's iterate over a list and clean up the results, storing them in a new list.\n",
    "\n",
    "original_company_list "
   ]
  },
  {
   "cell_type": "code",
   "execution_count": null,
   "metadata": {},
   "outputs": [],
   "source": []
  },
  {
   "cell_type": "markdown",
   "metadata": {},
   "source": [
    "## List Comprehensions\n",
    "\n",
    "Often you want to take the elements \n"
   ]
  },
  {
   "cell_type": "code",
   "execution_count": null,
   "metadata": {},
   "outputs": [],
   "source": []
  },
  {
   "cell_type": "markdown",
   "metadata": {},
   "source": [
    "## Turning a List into a Set\n",
    "\n"
   ]
  },
  {
   "cell_type": "code",
   "execution_count": null,
   "metadata": {},
   "outputs": [],
   "source": []
  },
  {
   "cell_type": "markdown",
   "metadata": {},
   "source": [
    "## Summary\n",
    "\n"
   ]
  }
 ],
 "metadata": {
  "kernelspec": {
   "display_name": "Python 3",
   "language": "python",
   "name": "python3"
  },
  "language_info": {
   "codemirror_mode": {
    "name": "ipython",
    "version": 3
   },
   "file_extension": ".py",
   "mimetype": "text/x-python",
   "name": "python",
   "nbconvert_exporter": "python",
   "pygments_lexer": "ipython3",
   "version": "3.6.6"
  }
 },
 "nbformat": 4,
 "nbformat_minor": 2
}
